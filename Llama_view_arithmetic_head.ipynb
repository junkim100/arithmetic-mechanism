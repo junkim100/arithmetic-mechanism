{
 "cells": [
  {
   "cell_type": "code",
   "execution_count": 1,
   "id": "d8786cf7-f163-4cb6-a72d-7ef88fe25116",
   "metadata": {},
   "outputs": [],
   "source": [
    "import torch\n",
    "import copy, math, time\n",
    "import numpy as np\n",
    "import matplotlib.pyplot as plt\n",
    "from matplotlib.pyplot import MultipleLocator\n",
    "from transformers import LlamaForCausalLM, LlamaTokenizer\n",
    "LAYER_NUM = 32\n",
    "HEAD_NUM = 32\n",
    "HEAD_DIM = 128\n",
    "HIDDEN_DIM = HEAD_NUM * HEAD_DIM\n",
    "torch.set_default_device(\"cuda\")\n",
    "zero_tensor = torch.tensor([0.0]*4096)"
   ]
  },
  {
   "cell_type": "code",
   "execution_count": 2,
   "id": "85c894b5-dd62-42d1-891a-e08282cde52f",
   "metadata": {},
   "outputs": [],
   "source": [
    "def get_fc2_params(model, layer_num):\n",
    "    return model.model.layers[layer_num].mlp.down_proj.weight.data\n",
    "def transfer_output(model_output):\n",
    "    all_pos_layer_input = []\n",
    "    all_pos_attn_output = []\n",
    "    all_pos_residual_output = []\n",
    "    all_pos_ffn_output = []\n",
    "    all_pos_layer_output = []\n",
    "    all_last_attn_subvalues = []\n",
    "    all_pos_coefficient_scores = []\n",
    "    all_attn_scores = []\n",
    "    for layer_i in range(LAYER_NUM):\n",
    "        cur_layer_input = model_output[layer_i][0]\n",
    "        cur_attn_output = model_output[layer_i][1]\n",
    "        cur_residual_output = model_output[layer_i][2]\n",
    "        cur_ffn_output = model_output[layer_i][3]\n",
    "        cur_layer_output = model_output[layer_i][4]\n",
    "        cur_last_attn_subvalues = model_output[layer_i][5]\n",
    "        cur_coefficient_scores = model_output[layer_i][6]\n",
    "        cur_attn_weights = model_output[layer_i][7]\n",
    "        all_pos_layer_input.append(cur_layer_input[0].tolist())\n",
    "        all_pos_attn_output.append(cur_attn_output[0].tolist())\n",
    "        all_pos_residual_output.append(cur_residual_output[0].tolist())\n",
    "        all_pos_ffn_output.append(cur_ffn_output[0].tolist())\n",
    "        all_pos_layer_output.append(cur_layer_output[0].tolist())\n",
    "        all_last_attn_subvalues.append(cur_last_attn_subvalues[0].tolist())\n",
    "        all_pos_coefficient_scores.append(cur_coefficient_scores[0].tolist())\n",
    "        all_attn_scores.append(cur_attn_weights)\n",
    "    return all_pos_layer_input, all_pos_attn_output, all_pos_residual_output, all_pos_ffn_output, \\\n",
    "           all_pos_layer_output, all_last_attn_subvalues, all_pos_coefficient_scores, all_attn_scores\n",
    "def get_bsvalues(vector, model, final_var):\n",
    "    vector = vector * torch.rsqrt(final_var + 1e-6)\n",
    "    vector_rmsn = vector * model.model.norm.weight.data\n",
    "    vector_bsvalues = model.lm_head(vector_rmsn).data\n",
    "    return vector_bsvalues\n",
    "def get_prob(vector):\n",
    "    prob = torch.nn.Softmax(-1)(vector)\n",
    "    return prob\n",
    "def get_log_increase(model, all_ffn_subvalues, all_pos_residual_output, final_var, predict_index):\n",
    "    all_ffn_log_increase = []\n",
    "    for layer_i in range(LAYER_NUM):\n",
    "        cur_ffn_subvalues = all_ffn_subvalues[layer_i]\n",
    "        cur_residual = torch.tensor(all_pos_residual_output[layer_i][-1])\n",
    "        origin_prob_log = torch.log(get_prob(get_bsvalues(cur_residual, model, final_var))[predict_index])\n",
    "        cur_ffn_subvalues_plus = cur_ffn_subvalues + cur_residual\n",
    "        cur_ffn_subvalues_bsvalues = get_bsvalues(cur_ffn_subvalues_plus, model, final_var)\n",
    "        cur_ffn_subvalues_probs = get_prob(cur_ffn_subvalues_bsvalues)\n",
    "        cur_ffn_subvalues_probs = cur_ffn_subvalues_probs[:, predict_index]\n",
    "        cur_ffn_subvalues_probs_log = torch.log(cur_ffn_subvalues_probs)\n",
    "        cur_ffn_subvalues_probs_log_increase = cur_ffn_subvalues_probs_log - origin_prob_log\n",
    "        all_ffn_log_increase.append(cur_ffn_subvalues_probs_log_increase.tolist())\n",
    "    return all_ffn_log_increase\n",
    "def plt_bar(x, y, yname=\"log increase\"):\n",
    "    x_major_locator=MultipleLocator(1)\n",
    "    plt.figure(figsize=(8, 3))\n",
    "    ax=plt.gca()\n",
    "    ax.xaxis.set_major_locator(x_major_locator)\n",
    "    plt_x = [a/2 for a in x]\n",
    "    plt.xlim(-0.5, plt_x[-1]+0.49)\n",
    "    x_attn, y_attn, x_ffn, y_ffn = [], [], [], []\n",
    "    for i in range(len(x)):\n",
    "        if i%2 == 0:\n",
    "            x_attn.append(x[i]/2)\n",
    "            y_attn.append(y[i])\n",
    "        else:\n",
    "            x_ffn.append(x[i]/2)\n",
    "            y_ffn.append(y[i])\n",
    "    plt.bar(x_attn, y_attn, color=\"darksalmon\", label=\"attention layers\")\n",
    "    plt.bar(x_ffn, y_ffn, color=\"lightseagreen\", label=\"FFN layers\")\n",
    "    plt.xlabel(\"layer\")\n",
    "    plt.ylabel(yname)\n",
    "    plt.legend()\n",
    "    plt.show()"
   ]
  },
  {
   "cell_type": "code",
   "execution_count": 3,
   "id": "e74ef03f-264b-49be-a089-e73e5b63e5c1",
   "metadata": {},
   "outputs": [
    {
     "data": {
      "application/vnd.jupyter.widget-view+json": {
       "model_id": "2dcf62bdbea44dc48be6b8d51387a932",
       "version_major": 2,
       "version_minor": 0
      },
      "text/plain": [
       "Loading checkpoint shards:   0%|          | 0/6 [00:00<?, ?it/s]"
      ]
     },
     "metadata": {},
     "output_type": "display_data"
    },
    {
     "data": {
      "text/plain": [
       "LlamaForCausalLM(\n",
       "  (model): LlamaModel(\n",
       "    (embed_tokens): Embedding(32000, 4096, padding_idx=0)\n",
       "    (layers): ModuleList(\n",
       "      (0-31): 32 x LlamaDecoderLayer(\n",
       "        (self_attn): LlamaAttention(\n",
       "          (q_proj): Linear(in_features=4096, out_features=4096, bias=False)\n",
       "          (k_proj): Linear(in_features=4096, out_features=4096, bias=False)\n",
       "          (v_proj): Linear(in_features=4096, out_features=4096, bias=False)\n",
       "          (o_proj): Linear(in_features=4096, out_features=4096, bias=False)\n",
       "          (rotary_emb): LlamaRotaryEmbedding()\n",
       "        )\n",
       "        (mlp): LlamaMLP(\n",
       "          (gate_proj): Linear(in_features=4096, out_features=11008, bias=False)\n",
       "          (up_proj): Linear(in_features=4096, out_features=11008, bias=False)\n",
       "          (down_proj): Linear(in_features=11008, out_features=4096, bias=False)\n",
       "          (act_fn): SiLU()\n",
       "        )\n",
       "        (input_layernorm): LlamaRMSNorm()\n",
       "        (post_attention_layernorm): LlamaRMSNorm()\n",
       "      )\n",
       "    )\n",
       "    (norm): LlamaRMSNorm()\n",
       "  )\n",
       "  (lm_head): Linear(in_features=4096, out_features=32000, bias=False)\n",
       ")"
      ]
     },
     "execution_count": 3,
     "metadata": {},
     "output_type": "execute_result"
    }
   ],
   "source": [
    "#please replace your own dir saving llama-7b model.\n",
    "#if you haven't downloaded it, you can try \"huggyllama/llama-7b\" to automatically download it from huggingface.\n",
    "modelname = \"../../scratch/save_models/llama-7b\" \n",
    "tokenizer = LlamaTokenizer.from_pretrained(modelname)\n",
    "model = LlamaForCausalLM.from_pretrained(modelname)\n",
    "model.eval()\n",
    "model.cuda()"
   ]
  },
  {
   "cell_type": "code",
   "execution_count": 4,
   "id": "2f8c3f1c-c7bb-48a9-8937-38c8cb692238",
   "metadata": {},
   "outputs": [
    {
     "name": "stdout",
     "output_type": "stream",
     "text": [
      "3+5= => ['8', '1', '6', '7', '2', '?', '', '3', '4', '5']\n",
      "['<s>', '', '3', '+', '5', '=']\n"
     ]
    }
   ],
   "source": [
    "#compute the final prediction of the input\n",
    "test_sentence = \"3+5=\"\n",
    "indexed_tokens = tokenizer.encode(test_sentence)\n",
    "tokens = [tokenizer.decode(x) for x in indexed_tokens]\n",
    "tokens_tensor = torch.tensor([indexed_tokens])\n",
    "with torch.no_grad():\n",
    "    outputs = model(tokens_tensor)\n",
    "    predictions = outputs[0]\n",
    "predicted_top10 = torch.argsort(predictions[0][-1], descending=True)[:10]\n",
    "predicted_text = [tokenizer.decode(x) for x in predicted_top10]\n",
    "print(test_sentence, \"=>\", predicted_text)\n",
    "all_pos_layer_input, all_pos_attn_output, all_pos_residual_output, all_pos_ffn_output, all_pos_layer_output, \\\n",
    "all_last_attn_subvalues, all_pos_coefficient_scores, all_attn_scores = transfer_output(outputs[1])\n",
    "final_var = torch.tensor(all_pos_layer_output[-1][-1]).pow(2).mean(-1, keepdim=True)\n",
    "pos_len = len(tokens)\n",
    "print(tokens)"
   ]
  },
  {
   "cell_type": "code",
   "execution_count": 5,
   "id": "061b5c41-3ddd-4e31-b0fd-1167707c29e9",
   "metadata": {},
   "outputs": [
    {
     "name": "stdout",
     "output_type": "stream",
     "text": [
      "29947 8\n",
      "prob:  0.3775949776172638\n"
     ]
    }
   ],
   "source": [
    "predict_index = predicted_top10[0].item()\n",
    "print(predict_index, tokenizer.decode(predict_index))\n",
    "cur_prob = get_prob(predictions[0][-1])[predict_index].item()\n",
    "print(\"prob: \", cur_prob)\n",
    "all_head_dict_prob, all_head_dict_logprob = {}, {}\n",
    "all_head_dict_prob[\"old\"] = cur_prob\n",
    "all_head_dict_logprob[\"old\"] = math.log(cur_prob)"
   ]
  },
  {
   "cell_type": "code",
   "execution_count": 6,
   "id": "7dbe043a-205f-4f5c-8231-13c5093c2ae8",
   "metadata": {},
   "outputs": [
    {
     "name": "stdout",
     "output_type": "stream",
     "text": [
      "time:  89.6403636932373\n"
     ]
    }
   ],
   "source": [
    "#identifying the important heads\n",
    "all_attn_o_weights = []\n",
    "for layer_index in range(LAYER_NUM):\n",
    "    all_attn_o_weights.append(model.model.layers[layer_index].self_attn.o_proj.weight.data)\n",
    "t1 = time.time()\n",
    "for layer_index in range(LAYER_NUM):\n",
    "    for head_index in range(HEAD_NUM):\n",
    "        model1 = copy.deepcopy(model)\n",
    "        all_attn_o_weights_new = copy.deepcopy(all_attn_o_weights[layer_index])\n",
    "        start, end = HEAD_DIM*head_index, HEAD_DIM*head_index+HEAD_DIM\n",
    "        for neuron_index in range(start, end):\n",
    "            all_attn_o_weights_new[:, neuron_index] = zero_tensor\n",
    "        new_parameters = torch.nn.Parameter(all_attn_o_weights_new)\n",
    "        model1.model.layers[layer_index].self_attn.o_proj.weight = new_parameters\n",
    "        del all_attn_o_weights_new\n",
    "        with torch.no_grad():\n",
    "            outputs1 = model1(tokens_tensor)\n",
    "            predictions1 = outputs1[0]\n",
    "        cur_prob1 = get_prob(predictions1[0][-1])[predict_index].item()\n",
    "        all_head_dict_prob[str(layer_index)+\"_\"+str(head_index)] = cur_prob1\n",
    "        all_head_dict_logprob[str(layer_index)+\"_\"+str(head_index)] = math.log(cur_prob1)\n",
    "        del model1\n",
    "t2 = time.time()\n",
    "print(\"time: \", t2-t1)"
   ]
  },
  {
   "cell_type": "code",
   "execution_count": 7,
   "id": "9a55fd05-f89f-4863-8cb1-0a29047fbf1a",
   "metadata": {},
   "outputs": [
    {
     "name": "stdout",
     "output_type": "stream",
     "text": [
      "prob:  [('17_22', 0.06159592792391777), ('13_15', 0.15388499200344086), ('14_19', 0.2144710272550583), ('15_9', 0.2402653694152832), ('1_8', 0.24745655059814453), ('6_20', 0.26361238956451416), ('12_16', 0.28505939245224), ('0_18', 0.29116934537887573), ('2_16', 0.29402652382850647), ('13_2', 0.29580187797546387)]\n",
      "logprob:  [('17_22', -2.7871595157589084), ('13_15', -1.871549760738866), ('14_19', -1.5395806208089735), ('15_9', -1.4260112605856645), ('1_8', -1.396520265523458), ('6_20', -1.3332754760754846), ('12_16', -1.2550577258553555), ('0_18', -1.233850238191005), ('2_16', -1.22408529860901), ('13_2', -1.2180653799241583)]\n"
     ]
    }
   ],
   "source": [
    "all_head_dict_prob_list = list(zip(all_head_dict_prob.keys(), all_head_dict_prob.values()))\n",
    "all_head_dict_prob_list_sort = sorted(all_head_dict_prob_list, key=lambda x:x[1])\n",
    "print(\"prob: \", all_head_dict_prob_list_sort[:10])\n",
    "all_head_dict_logprob_list = list(zip(all_head_dict_logprob.keys(), all_head_dict_logprob.values()))\n",
    "all_head_dict_logprob_list_sort = sorted(all_head_dict_logprob_list, key=lambda x:x[1])\n",
    "print(\"logprob: \", all_head_dict_logprob_list_sort[:10])"
   ]
  },
  {
   "cell_type": "code",
   "execution_count": 8,
   "id": "3dcd21fc-78c7-4261-8daf-476be5872db4",
   "metadata": {},
   "outputs": [
    {
     "name": "stdout",
     "output_type": "stream",
     "text": [
      "attn sum:  1.7839999999999996 ffn sum:  7.618\n",
      "attn:  [('30', 0.475), ('26', 0.262), ('31', 0.209), ('13', 0.193), ('29', 0.174), ('21', 0.143), ('17', 0.093), ('28', 0.093), ('27', 0.063), ('25', 0.061), ('11', 0.055), ('24', 0.049), ('8', 0.045), ('22', 0.04), ('12', 0.023), ('10', 0.014), ('19', 0.012), ('2', 0.012), ('1', 0.01), ('0', 0.008), ('20', 0.007), ('4', 0.006), ('9', 0.005), ('5', -0.001), ('7', -0.002), ('3', -0.004), ('23', -0.01), ('18', -0.019), ('6', -0.029), ('14', -0.06), ('15', -0.068), ('16', -0.075)]\n",
      "ffn:  [('28', 1.659), ('30', 1.207), ('29', 1.151), ('31', 0.78), ('25', 0.682), ('27', 0.582), ('23', 0.538), ('20', 0.281), ('19', 0.23), ('26', 0.22), ('16', 0.207), ('9', 0.038), ('3', 0.034), ('13', 0.032), ('5', 0.025), ('15', 0.023), ('12', 0.021), ('7', 0.02), ('2', 0.019), ('17', 0.017), ('1', 0.016), ('0', 0.015), ('4', 0.008), ('21', 0.004), ('6', 0.003), ('11', -0.002), ('10', -0.007), ('24', -0.011), ('14', -0.02), ('22', -0.025), ('8', -0.025), ('18', -0.104)]\n"
     ]
    },
    {
     "data": {
      "image/png": "[encoded data removed]",
      "text/plain": [
       "<Figure size 800x300 with 1 Axes>"
      ]
     },
     "metadata": {},
     "output_type": "display_data"
    }
   ],
   "source": [
    "#layer-level increase: most increase happens in deep FFN layers\n",
    "#please see this paper for details: https://arxiv.org/pdf/2312.12141\n",
    "all_attn_log_increase = []\n",
    "for layer_i in range(LAYER_NUM):\n",
    "    cur_attn_vector = torch.tensor(all_pos_attn_output[layer_i][-1])\n",
    "    cur_layer_input = torch.tensor(all_pos_layer_input[layer_i][-1])\n",
    "    origin_prob_log = torch.log(get_prob(get_bsvalues(cur_layer_input, model, final_var))[predict_index])\n",
    "    cur_attn_vector_plus = cur_attn_vector + cur_layer_input\n",
    "    cur_attn_vector_bsvalues = get_bsvalues(cur_attn_vector_plus, model, final_var)\n",
    "    cur_attn_vector_probs = get_prob(cur_attn_vector_bsvalues)\n",
    "    cur_attn_vector_probs = cur_attn_vector_probs[predict_index]\n",
    "    cur_attn_vector_probs_log = torch.log(cur_attn_vector_probs)\n",
    "    cur_attn_vector_probs_log_increase = cur_attn_vector_probs_log - origin_prob_log\n",
    "    all_attn_log_increase.append(cur_attn_vector_probs_log_increase.item())\n",
    "all_ffn_log_increase = []\n",
    "for layer_i in range(LAYER_NUM):\n",
    "    cur_ffn_vector = torch.tensor(all_pos_ffn_output[layer_i][-1])\n",
    "    cur_residual = torch.tensor(all_pos_residual_output[layer_i][-1])\n",
    "    origin_prob_log = torch.log(get_prob(get_bsvalues(cur_residual, model, final_var))[predict_index])\n",
    "    cur_ffn_vector_plus = cur_ffn_vector + cur_residual\n",
    "    cur_ffn_vector_bsvalues = get_bsvalues(cur_ffn_vector_plus, model, final_var)\n",
    "    cur_ffn_vector_probs = get_prob(cur_ffn_vector_bsvalues)\n",
    "    cur_ffn_vector_probs = cur_ffn_vector_probs[predict_index]\n",
    "    cur_ffn_vector_probs_log = torch.log(cur_ffn_vector_probs)\n",
    "    cur_ffn_vector_probs_log_increase = cur_ffn_vector_probs_log - origin_prob_log\n",
    "    all_ffn_log_increase.append(cur_ffn_vector_probs_log_increase.tolist())\n",
    "attn_list, ffn_list = [], []\n",
    "for layer_i in range(LAYER_NUM):\n",
    "    attn_list.append([str(layer_i), all_attn_log_increase[layer_i]])\n",
    "    ffn_list.append([str(layer_i), all_ffn_log_increase[layer_i]])\n",
    "attn_list_sort = sorted(attn_list, key=lambda x: x[-1])[::-1]#[:10]\n",
    "ffn_list_sort = sorted(ffn_list, key=lambda x: x[-1])[::-1]#[:10]\n",
    "attn_increase_compute, ffn_increase_compute = [], []\n",
    "for indx, increase in attn_list_sort:\n",
    "    attn_increase_compute.append((indx, round(increase, 3)))\n",
    "for indx, increase in ffn_list_sort:\n",
    "    ffn_increase_compute.append((indx, round(increase, 3)))\n",
    "print(\"attn sum: \", sum([x[1] for x in attn_increase_compute]), \n",
    "      \"ffn sum: \", sum([x[1] for x in ffn_increase_compute]))\n",
    "print(\"attn: \", attn_increase_compute)\n",
    "print(\"ffn: \", ffn_increase_compute)\n",
    "all_increases_draw = []\n",
    "for i in range(len(attn_list)):\n",
    "    all_increases_draw.append(attn_list[i][1])\n",
    "    all_increases_draw.append(ffn_list[i][1])    \n",
    "plt_bar(range(len(all_increases_draw)), all_increases_draw)"
   ]
  },
  {
   "cell_type": "code",
   "execution_count": null,
   "id": "f4a82f79-1d2d-49c4-b58b-641354fa2f44",
   "metadata": {},
   "outputs": [],
   "source": []
  }
 ],
 "metadata": {
  "kernelspec": {
   "display_name": "Python 3 (ipykernel)",
   "language": "python",
   "name": "python3"
  },
  "language_info": {
   "codemirror_mode": {
    "name": "ipython",
    "version": 3
   },
   "file_extension": ".py",
   "mimetype": "text/x-python",
   "name": "python",
   "nbconvert_exporter": "python",
   "pygments_lexer": "ipython3",
   "version": "3.8.13"
  }
 },
 "nbformat": 4,
 "nbformat_minor": 5
}
